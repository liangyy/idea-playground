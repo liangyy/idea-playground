{
 "cells": [
  {
   "cell_type": "markdown",
   "metadata": {},
   "source": [
    "## EM implementation\n",
    "\n",
    "* For M-step, it is unnecessary to obtain global/local optimizer to ensure convergence. So, even if lack of analytical solution, numerical solver is still a way to go\n",
    "\n",
    "* Be careful, always check the improvement of log likelihood function. The thing is any improvement in $Q$ will result in improvement of likelihood function. If it is not the case, check BOTH $lld$ and the solver!\n",
    "\n",
    "## About `sweep`\n",
    "\n",
    "It can be pretty nasty! It can be doing something unexpectedly without any errors/warnings. So, be careful and find a time to really understand it!\n",
    "\n",
    "## Optimizing for variance\n",
    "\n",
    "Here, it is about constraint optimization. We need positive solution. The trick to make it unconstraint is by replacing $\\sigma^2 = e^x$ and optimizing w.r.t $x$.\n",
    "\n"
   ]
  }
 ],
 "metadata": {
  "kernelspec": {
   "display_name": "Python 3",
   "language": "python",
   "name": "python3"
  },
  "language_info": {
   "codemirror_mode": {
    "name": "ipython",
    "version": 3
   },
   "file_extension": ".py",
   "mimetype": "text/x-python",
   "name": "python",
   "nbconvert_exporter": "python",
   "pygments_lexer": "ipython3",
   "version": "3.6.3"
  }
 },
 "nbformat": 4,
 "nbformat_minor": 2
}
