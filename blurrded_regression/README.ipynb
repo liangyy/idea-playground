{
 "cells": [
  {
   "cell_type": "markdown",
   "metadata": {},
   "source": [
    "# Problem setup\n",
    "\n",
    "Here we consider a regression model with a slightly unconventional setup. Instead of observing exact values of $X$ and $Y$, we assume that we observe $\\hat{X}$ and $\\hat{Y}$ and $\\hat{X} \\sim N(X, s_X)$ and $\\hat{Y} \\sim N(Y, s_Y)$ with known $s_X$ and $s_Y$. \n",
    "\n",
    "We consider the following problem:\n",
    "\n",
    "\\begin{align*}\n",
    "    Y &\\sim N(X\\beta, \\sigma^2) \\\\\n",
    "    \\beta &\\sim N(0, \\sigma_b^2)\n",
    "\\end{align*}\n",
    "\n",
    "The parameter of interest is $\\sigma_b^2$. In other word, **it is a random effect model with blurred observations.**"
   ]
  },
  {
   "cell_type": "markdown",
   "metadata": {},
   "source": []
  }
 ],
 "metadata": {
  "kernelspec": {
   "display_name": "Python 3",
   "language": "python",
   "name": "python3"
  },
  "language_info": {
   "codemirror_mode": {
    "name": "ipython",
    "version": 3
   },
   "file_extension": ".py",
   "mimetype": "text/x-python",
   "name": "python",
   "nbconvert_exporter": "python",
   "pygments_lexer": "ipython3",
   "version": "3.7.1"
  }
 },
 "nbformat": 4,
 "nbformat_minor": 2
}
